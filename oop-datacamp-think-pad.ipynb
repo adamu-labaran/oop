{
 "cells": [
  {
   "cell_type": "code",
   "execution_count": null,
   "metadata": {},
   "outputs": [],
   "source": []
  },
  {
   "cell_type": "code",
   "execution_count": null,
   "metadata": {},
   "outputs": [],
   "source": [
    "# self is object reference "
   ]
  },
  {
   "cell_type": "code",
   "execution_count": null,
   "metadata": {},
   "outputs": [],
   "source": [
    "In this example, the Car class defines the general state and behavior of a car. Instances of this class will have attributes like make, model, year, and speed, as well as methods like accelerate and brake to modify the state (speed) of the car.\n",
    "\n",
    "So, you're correct in saying that an object is an abstract state template describing the general state and behavior. It's like a template that defines what an entity of a certain type (a class) can do and what properties it possesses.\n",
    "\n",
    "\n",
    "The statement \"object is an abstract state template describing the general state and behavior\" is generally true in the context of object-oriented programming (OOP). Objects are instances of classes, and classes define the structure and behavior of objects. Therefore, classes can be seen as abstract state templates that describe the general state (attributes) and behavior (methods) of objects.\n",
    "\n",
    "So, the answer is:\n",
    "    \n",
    "\n",
    "\n"
   ]
  },
  {
   "cell_type": "code",
   "execution_count": 2,
   "metadata": {},
   "outputs": [],
   "source": [
    "class Car:\n",
    "    def __init__(self, make, model, year):\n",
    "        self.make = make\n",
    "        self.model = model\n",
    "        self.year = year\n",
    "        self.speed = 0\n",
    "\n",
    "    def accelerate(self, increment):\n",
    "        self.speed += increment\n",
    "\n",
    "    def brake(self, decrement):\n",
    "        if self.speed - decrement >= 0:\n",
    "            self.speed -= decrement\n",
    "        else:\n",
    "            self.speed = 0\n"
   ]
  },
  {
   "cell_type": "code",
   "execution_count": null,
   "metadata": {},
   "outputs": [],
   "source": [
    "ratio = 12 / 8\n",
    "\n",
    "# List all attributes and methods for the ratio object\n",
    "print(dir(ratio))\n",
    "\n",
    "\n",
    "# List all attributes and methods for the float class\n",
    "print(dir(float))"
   ]
  },
  {
   "cell_type": "code",
   "execution_count": 2,
   "metadata": {},
   "outputs": [],
   "source": [
    "class MyCounter:\n",
    "    def set_count(self, n):\n",
    "        self.n = n\n",
    "        mc = MyCounter()\n",
    "        mc.set_count(5)\n",
    "        print(mc.n)"
   ]
  },
  {
   "cell_type": "code",
   "execution_count": null,
   "metadata": {},
   "outputs": [],
   "source": []
  },
  {
   "cell_type": "code",
   "execution_count": 4,
   "metadata": {},
   "outputs": [
    {
     "name": "stdout",
     "output_type": "stream",
     "text": [
      "Korel Rossi\n"
     ]
    }
   ],
   "source": [
    "class Employee:\n",
    "      \n",
    "  # Include a set_name method\n",
    "  def set_name(self, new_name):\n",
    "    self.name = new_name\n",
    "\n",
    "emp = Employee()\n",
    "\n",
    "# Use set_name() on emp to set the name of emp to 'Korel Rossi'\n",
    "emp.set_name('Korel Rossi')\n",
    "print(emp.name)"
   ]
  },
  {
   "cell_type": "code",
   "execution_count": 6,
   "metadata": {},
   "outputs": [
    {
     "ename": "IndentationError",
     "evalue": "unindent does not match any outer indentation level (<tokenize>, line 3)",
     "output_type": "error",
     "traceback": [
      "\u001b[1;36m  File \u001b[1;32m<tokenize>:3\u001b[1;36m\u001b[0m\n\u001b[1;33m    self.name = new_name\u001b[0m\n\u001b[1;37m    ^\u001b[0m\n\u001b[1;31mIndentationError\u001b[0m\u001b[1;31m:\u001b[0m unindent does not match any outer indentation level\n"
     ]
    }
   ],
   "source": [
    "class Employee:\n",
    "      def set_name(self, new_name):\n",
    "    self.name = new_name\n",
    "  \n",
    "  # Add set_salary() method  \n",
    "  def set_salary(self, new_salary):\n",
    "    self.salary = new_salary \n",
    "\n",
    "emp = Employee()\n",
    "\n",
    "# Use set_name to set the name of emp to 'Korel Rossi'\n",
    "emp.set_name('Korel Rossi')\n",
    "\n",
    "# Set the salary of emp to 50000\n",
    "emp.set_salary(50000)\n",
    "\n",
    "# Print the emp object's salary\n",
    "print(emp.salary)"
   ]
  },
  {
   "cell_type": "code",
   "execution_count": null,
   "metadata": {},
   "outputs": [],
   "source": [
    "Extending a class\n",
    "In the previous exercise, you defined an Employee class with two attributes and two methods that set those attributes. Remember, methods are functions, so anything you can do with a function, you can also do with a method.\n",
    "\n",
    "For example, you can use methods to print or return values, or to make plots, as long as the behavior is appropriate for objects of that class, e.g., an Employee probably wouldn't have a pivot_table() method.\n",
    "\n",
    "In this exercise, you'll learn how to use existing class attributes to define new methods. The Employee class and the emp object from the previous exercise are in your script.py.\n",
    "\n",
    "Instructions\n",
    "100 XP\n",
    "Add a method give_raise() to the Employee class that increases the salary by the amount argument passed to give_raise().\n",
    "Create the emp object.\n",
    "Print the salary attribute of emp.\n",
    "Call give_raise() on the emp object, increasing their salary by 1500."
   ]
  },
  {
   "cell_type": "code",
   "execution_count": 13,
   "metadata": {},
   "outputs": [
    {
     "name": "stdout",
     "output_type": "stream",
     "text": [
      "50000\n",
      "51500\n"
     ]
    }
   ],
   "source": [
    "class Employee:\n",
    "    def set_name(self, new_name):\n",
    "      self.name = new_name\n",
    "\n",
    "    def set_salary(self, new_salary):\n",
    "      self.salary = new_salary \n",
    "\n",
    "    def give_raise(self, amount):\n",
    "      self.salary = self.salary + amount\n",
    "\n",
    "# Create the emp object\n",
    "emp = Employee()\n",
    "emp.set_name('Korel Rossi')\n",
    "emp.set_salary(50000)\n",
    "\n",
    "# Print the salary\n",
    "print(emp.salary)\n",
    "\n",
    "# Give emp a raise of 1500\n",
    "emp.give_raise(1500)\n",
    "print(emp.salary)\n"
   ]
  },
  {
   "cell_type": "code",
   "execution_count": null,
   "metadata": {},
   "outputs": [],
   "source": [
    "class Employee:\n",
    "      def set_name(self, new_name):\n",
    "    self.name = new_name\n",
    "\n",
    "  def set_salary(self, new_salary):\n",
    "    self.salary = new_salary \n",
    "\n",
    "  # Add a give_raise() method with amount as an argument\n",
    "  def give_raise(self, amount):\n",
    "    self.salary = self.salary + amount\n",
    "\n",
    "# Create the emp object\n",
    "emp = Employee()\n",
    "emp.set_name('Korel Rossi')\n",
    "emp.set_salary(50000)\n",
    "\n",
    "# Print the salary\n",
    "print(emp.salary)\n",
    "\n",
    "# Give emp a raise of 1500\n",
    "emp.give_raise(1500)\n",
    "print(emp.salary)\n"
   ]
  },
  {
   "cell_type": "code",
   "execution_count": 1,
   "metadata": {},
   "outputs": [
    {
     "ename": "TypeError",
     "evalue": "Counter.__init__() takes 2 positional arguments but 3 were given",
     "output_type": "error",
     "traceback": [
      "\u001b[1;31m---------------------------------------------------------------------------\u001b[0m",
      "\u001b[1;31mTypeError\u001b[0m                                 Traceback (most recent call last)",
      "Cell \u001b[1;32mIn[1], line 6\u001b[0m\n\u001b[0;32m      3\u001b[0m         \u001b[38;5;28mself\u001b[39m\u001b[38;5;241m.\u001b[39mcount \u001b[38;5;241m=\u001b[39m Counter\n\u001b[0;32m      4\u001b[0m         \u001b[38;5;28mself\u001b[39m\u001b[38;5;241m.\u001b[39mname \u001b[38;5;241m=\u001b[39m name\n\u001b[1;32m----> 6\u001b[0m c \u001b[38;5;241m=\u001b[39m \u001b[43mCounter\u001b[49m\u001b[43m(\u001b[49m\u001b[38;5;241;43m0\u001b[39;49m\u001b[43m,\u001b[49m\u001b[43m \u001b[49m\u001b[38;5;124;43m\"\u001b[39;49m\u001b[38;5;124;43mMy counter\u001b[39;49m\u001b[38;5;124;43m\"\u001b[39;49m\u001b[43m)\u001b[49m\n\u001b[0;32m      7\u001b[0m \u001b[38;5;28mprint\u001b[39m(c\u001b[38;5;241m.\u001b[39mcount)\n",
      "\u001b[1;31mTypeError\u001b[0m: Counter.__init__() takes 2 positional arguments but 3 were given"
     ]
    }
   ],
   "source": [
    "class Counter:\n",
    "    def __init__(self, count):\n",
    "        self.count = Counter\n",
    "        self.name = name\n",
    "        \n",
    "c = Counter(0, \"My counter\")\n",
    "print(c.count)"
   ]
  },
  {
   "cell_type": "code",
   "execution_count": 2,
   "metadata": {},
   "outputs": [
    {
     "name": "stdout",
     "output_type": "stream",
     "text": [
      "5\n"
     ]
    }
   ],
   "source": [
    "class Counter:\n",
    "    def __init__(self, count, name):\n",
    "        self.count = 5\n",
    "        self.name = name\n",
    "        \n",
    "c = Counter(0, \"My counter\")\n",
    "print(c.count)"
   ]
  },
  {
   "cell_type": "code",
   "execution_count": 3,
   "metadata": {},
   "outputs": [
    {
     "ename": "NameError",
     "evalue": "name 'self' is not defined",
     "output_type": "error",
     "traceback": [
      "\u001b[1;31m---------------------------------------------------------------------------\u001b[0m",
      "\u001b[1;31mNameError\u001b[0m                                 Traceback (most recent call last)",
      "Cell \u001b[1;32mIn[3], line 1\u001b[0m\n\u001b[1;32m----> 1\u001b[0m \u001b[38;5;28;43;01mclass\u001b[39;49;00m\u001b[43m \u001b[49m\u001b[38;5;21;43;01mCounter\u001b[39;49;00m\u001b[43m:\u001b[49m\n\u001b[0;32m      2\u001b[0m \u001b[43m    \u001b[49m\u001b[38;5;28;43mself\u001b[39;49m\u001b[38;5;241;43m.\u001b[39;49m\u001b[43mcount\u001b[49m\u001b[43m \u001b[49m\u001b[38;5;241;43m=\u001b[39;49m\u001b[43m \u001b[49m\u001b[38;5;241;43m5\u001b[39;49m\n\u001b[0;32m      3\u001b[0m \u001b[43m    \u001b[49m\u001b[38;5;28;43mself\u001b[39;49m\u001b[38;5;241;43m.\u001b[39;49m\u001b[43mname\u001b[49m\u001b[43m \u001b[49m\u001b[38;5;241;43m=\u001b[39;49m\u001b[43m \u001b[49m\u001b[38;5;124;43m\"\u001b[39;49m\u001b[38;5;124;43mMy counter\u001b[39;49m\u001b[38;5;124;43m\"\u001b[39;49m\n",
      "Cell \u001b[1;32mIn[3], line 2\u001b[0m, in \u001b[0;36mCounter\u001b[1;34m()\u001b[0m\n\u001b[0;32m      1\u001b[0m \u001b[38;5;28;01mclass\u001b[39;00m \u001b[38;5;21;01mCounter\u001b[39;00m:\n\u001b[1;32m----> 2\u001b[0m     \u001b[38;5;28;43mself\u001b[39;49m\u001b[38;5;241m.\u001b[39mcount \u001b[38;5;241m=\u001b[39m \u001b[38;5;241m5\u001b[39m\n\u001b[0;32m      3\u001b[0m     \u001b[38;5;28mself\u001b[39m\u001b[38;5;241m.\u001b[39mname \u001b[38;5;241m=\u001b[39m \u001b[38;5;124m\"\u001b[39m\u001b[38;5;124mMy counter\u001b[39m\u001b[38;5;124m\"\u001b[39m\n",
      "\u001b[1;31mNameError\u001b[0m: name 'self' is not defined"
     ]
    }
   ],
   "source": [
    "class Counter:\n",
    "    self.count = 5\n",
    "    self.name = \"My counter\"\n",
    "        \n",
    "c = Counter(0, \"My counter\")\n",
    "print(c.count)"
   ]
  },
  {
   "cell_type": "code",
   "execution_count": 4,
   "metadata": {},
   "outputs": [
    {
     "ename": "AttributeError",
     "evalue": "'Counter' object has no attribute 'count'",
     "output_type": "error",
     "traceback": [
      "\u001b[1;31m---------------------------------------------------------------------------\u001b[0m",
      "\u001b[1;31mAttributeError\u001b[0m                            Traceback (most recent call last)",
      "Cell \u001b[1;32mIn[4], line 6\u001b[0m\n\u001b[0;32m      3\u001b[0m         \u001b[38;5;28mself\u001b[39m\u001b[38;5;241m.\u001b[39mname \u001b[38;5;241m=\u001b[39m name\n\u001b[0;32m      5\u001b[0m c \u001b[38;5;241m=\u001b[39m Counter(\u001b[38;5;241m0\u001b[39m, \u001b[38;5;124m\"\u001b[39m\u001b[38;5;124mMy counter\u001b[39m\u001b[38;5;124m\"\u001b[39m)\n\u001b[1;32m----> 6\u001b[0m \u001b[38;5;28mprint\u001b[39m(\u001b[43mc\u001b[49m\u001b[38;5;241;43m.\u001b[39;49m\u001b[43mcount\u001b[49m)\n",
      "\u001b[1;31mAttributeError\u001b[0m: 'Counter' object has no attribute 'count'"
     ]
    }
   ],
   "source": [
    "class Counter:\n",
    "    def __init__(self, count, name):\n",
    "        self.name = name\n",
    "        \n",
    "c = Counter(0, \"My counter\")\n",
    "print(c.count)"
   ]
  },
  {
   "cell_type": "code",
   "execution_count": null,
   "metadata": {},
   "outputs": [],
   "source": [
    "\n",
    "class Employee:\n",
    "  # Create __init__() method\n",
    "  ____ ____(____, name, ____):\n",
    "    # Create the name and salary attributes\n",
    "    self.____ = ____\n",
    "    ____ = ____\n",
    "    \n",
    "  def give_raise(self, amount):\n",
    "    self.salary += amount\n",
    "\n",
    "  def monthly_salary(self):\n",
    "    return self.salary / 12\n",
    "        \n",
    "emp = Employee(\"Korel Rossi\")\n",
    "print(emp.name)\n",
    "print(emp.salary)     \n",
    "Define the Employee class with a constructor that accepts two arguments, name and salary (the latter with a default value of 0).\n",
    "Create two attributes, also called name and salary, setting their values to the corresponding arguments."
   ]
  },
  {
   "cell_type": "code",
   "execution_count": null,
   "metadata": {},
   "outputs": [],
   "source": [
    "class Employee:\n",
    "    def __init__(self, name, salary=0):\n",
    "        self.name = name\n",
    "        self.salary = salary\n",
    "        \n",
    "    def give_raise(self, amount):\n",
    "        self.salary += amount\n",
    "\n",
    "    def monthly_salary(self):\n",
    "        return self.salary / 12\n",
    "\n",
    "emp = Employee(\"Korel Rossi\")\n",
    "print(emp.name)\n",
    "print(emp.salary)\n"
   ]
  },
  {
   "cell_type": "code",
   "execution_count": null,
   "metadata": {},
   "outputs": [],
   "source": [
    "class Employee:\n",
    "      # Create __init__() method\n",
    "  def __init__(self, name, salary=0):\n",
    "    # Create the name and salary attributes\n",
    "    self.name = name\n",
    "    self.salary = salary\n",
    "    \n",
    "  def give_raise(self, amount):\n",
    "    self.salary += amount\n",
    "\n",
    "  def monthly_salary(self):\n",
    "    return self.salary / 12\n",
    "        \n",
    "emp = Employee(\"Korel Rossi\")\n",
    "print(emp.name)\n",
    "print(emp.salary)     \n",
    "\n",
    "\"\"\"The Employee class now has a constructor (__init__ method) that accepts two arguments, name and salary (with a default value of 0). Inside the constructor, it initializes two attributes, name and salary, with the values passed as arguments.\"\"\"\n"
   ]
  },
  {
   "cell_type": "code",
   "execution_count": null,
   "metadata": {},
   "outputs": [],
   "source": [
    "Add a class constructor\n",
    "In this exercise, you'll continue working on the Employee class. Instead of using the methods like set_salary() that you wrote in the previous lesson, you will introduce a constructor that assigns name and salary to the employee at the moment when the object is created.\n",
    "\n",
    "Initializing attributes in the constructor is a good idea because this ensures that the object has all the necessary attributes the moment it is created.\n",
    "\n",
    "Instructions 2/2\n",
    "50 XP\n",
    "2\n",
    "Modify __init__() to check whether the salary parameter is positive, assigning to the salary attribute if true, or assigning 0 and printing \"Invalid salary!\" if false.\n",
    "\n",
    "class Employee:\n",
    "      def __init__(self, name, salary=0):\n",
    "    self.name = name\n",
    "    # Check if salary is positive\n",
    "    ____ ____ ____ ____:\n",
    "      ____.____ = ____\n",
    "    ____:\n",
    "      ____.____ = ____\n",
    "      print(\"____\")\n",
    "\n",
    "  def give_raise(self, amount):\n",
    "    self.salary += amount\n",
    "\n",
    "  def monthly_salary(self):\n",
    "    return self.salary / 12\n",
    "      \n",
    "emp = Employee(\"Korel Rossi\", -1000)\n",
    "print(emp.name)\n",
    "print(emp.salary)\n",
    "\n"
   ]
  },
  {
   "cell_type": "code",
   "execution_count": null,
   "metadata": {},
   "outputs": [],
   "source": [
    "# solution\n",
    "class Employee:\n",
    "    def __init__(self, name, salary=0):\n",
    "        self.name = name\n",
    "        # Check if salary is positive\n",
    "        if salary >= 0:\n",
    "            self.salary = salary\n",
    "        else:\n",
    "            self.salary = 0\n",
    "            print(\"Invalid salary!\")\n",
    "\n",
    "    def give_raise(self, amount):\n",
    "        self.salary += amount\n",
    "\n",
    "    def monthly_salary(self):\n",
    "        return self.salary / 12\n",
    "      \n",
    "emp = Employee(\"Korel Rossi\", -1000)\n",
    "print(emp.name)\n",
    "print(emp.salary)\n"
   ]
  },
  {
   "cell_type": "code",
   "execution_count": null,
   "metadata": {},
   "outputs": [],
   "source": [
    "class Employee:\n",
    "      def __init__(self, name, salary=0):\n",
    "    self.name = name\n",
    "    # Check if salary is positive\n",
    "    if salary >= 0:\n",
    "      self.salary = salary\n",
    "    else:\n",
    "      self.salary = salary\n",
    "      print(\"\"Invalid salary\"\")\n",
    "\n",
    "  def give_raise(self, amount):\n",
    "    self.salary += amount\n",
    "\n",
    "  def monthly_salary(self):\n",
    "    return self.salary / 12\n",
    "      \n",
    "emp = Employee(\"Korel Rossi\", -1000)\n",
    "print(emp.name)\n",
    "print(emp.salary)\n",
    "\n"
   ]
  },
  {
   "cell_type": "code",
   "execution_count": null,
   "metadata": {},
   "outputs": [],
   "source": [
    "class Employee:\n",
    "      def __init__(self, name, salary=0):\n",
    "    self.name = name\n",
    "    # Check if salary is positive\n",
    "    if salary >= 0:\n",
    "      self.salary = salary\n",
    "    else:\n",
    "      self.salary = 0\n",
    "      print(\"Invalid salary!\")\n",
    "      \n",
    "  def give_raise(self, amount):\n",
    "    self.salary += amount\n",
    "\n",
    "  def monthly_salary(self):\n",
    "    return self.salary / 12\n",
    "      \n",
    "emp = Employee(\"Korel Rossi\", -1000)\n",
    "print(emp.name)\n",
    "print(emp.salary)\n"
   ]
  },
  {
   "cell_type": "code",
   "execution_count": null,
   "metadata": {},
   "outputs": [],
   "source": [
    "# Define and initialize the Calculator class\n",
    "____:\n",
    "  ____ ____(____, ____, ____):\n",
    "    self.____ = ____\n",
    "    self.____ = ____\n",
    "  \n",
    "  # Create the addition method\n",
    "  def ____(____):\n",
    "    return self.____ ____ self.____\n",
    "  \n",
    "  # Create the subtraction method\n",
    "  def ____(____):\n",
    "    return ____\n",
    "  \n",
    "  # Create the multiplication method\n",
    "  def ____(____):\n",
    "    ____   \n",
    "\n",
    "\n",
    "\n",
    "\n",
    "\n",
    "# Define a Calculator class with two parameters on initialization: num_one and num_two.\n",
    "# Define an addition() method, which returns self.num_one plus num_two.\n",
    "# Define an subtraction() method, which returns self.num_one minus num_two.\n",
    "# Define an multiplication() method, which returns self.num_one multiplied by num_two."
   ]
  },
  {
   "cell_type": "code",
   "execution_count": null,
   "metadata": {},
   "outputs": [],
   "source": [
    "Class-level attributes\n",
    "Class attributes store data that is shared among all the class instances. They are assigned values in the class body and are referred to using the ClassName. syntax rather than self. syntax when used in methods.\n",
    "\n",
    "In this exercise, you will be a game developer working on a game that will have several players moving on a grid and interacting with each other. As the first step, you want to define a Player class that will just move along a straight line. Player will have a position attribute and move along a grid with a limited number of positions, so the position of Player will have a maximal value.\n",
    "\n",
    "Instructions\n",
    "100 XP\n",
    "Define a Player class.\n",
    "Create a class attribute called MAX_POSITION with value of 10.\n",
    "In the __init__() constructor, set the position that assigns to an object to 0.\n",
    "Create a Player object p and print its MAX_POSITION."
   ]
  },
  {
   "cell_type": "code",
   "execution_count": null,
   "metadata": {},
   "outputs": [],
   "source": [
    "# Create a Player class\n",
    "____:\n",
    "  \n",
    "  # Create MAX_POSITION class attribute\n",
    "  ____ = ____\n",
    "  \n",
    "  # Add a constructor, setting position to zero\n",
    "  ____:\n",
    "    ____.____ = ____\n",
    "\n",
    "# Create a player p and print its MAX_POSITITON\n",
    "p = ____()\n",
    "print(____.____)\n",
    "Define a Player class.\n",
    "Create a class attribute called MAX_POSITION with value of 10.\n",
    "In the __init__() constructor, set the position that assigns to an object to 0.\n",
    "Create a Player object p and print its MAX_POSITION."
   ]
  },
  {
   "cell_type": "code",
   "execution_count": null,
   "metadata": {},
   "outputs": [],
   "source": [
    "Implementing logic for attributes\n",
    "The Player class you previously created was a good start, but one of the key benefits of class-level attributes is their ability to restrict the upper and/or lower boundaries of data.\n",
    "\n",
    "In this exercise, you'll modify the Player class definition to restrict the value of position from going above the class-level MAX_POSITION value.\n",
    "\n",
    "Instructions\n",
    "100 XP\n",
    "Define the __init__() constructor with two arguments, self and position.\n",
    "Inside the constructor, check if position is less than or equal to the class-level MAX_POSITION; if so, assign position to self.position\n",
    "If position is more than the class-level MAX_POSITION, assign it to the class' .MAX_POSITION attribute.\n",
    "Create a Player object p with a position of 6 and print its MAX_POSITION."
   ]
  },
  {
   "cell_type": "code",
   "execution_count": null,
   "metadata": {},
   "outputs": [],
   "source": [
    "class Player:\n",
    "  MAX_POSITION = 10\n",
    "  \n",
    "  # Define a constructor\n",
    "  ____ ____(____, ____):\n",
    "    \n",
    "    # Check if position is less than the class-level attribute value\n",
    "    if ____ <= ____.____:\n",
    "      ____.____ = ____\n",
    "    \n",
    "    # If not, set equal to the class-level attribute\n",
    "    else:\n",
    "      ____.____ = ____.____\n",
    "\n",
    "# Create a Player object, p, and print its MAX_POSITITON\n",
    "p = ____(____)\n",
    "print(____.____)\n",
    "Define the __init__() constructor with two arguments, self and position.\n",
    "Inside the constructor, check if position is less than or equal to the class-level MAX_POSITION; if so, assign position to self.position\n",
    "If position is more than the class-level MAX_POSITION, assign it to the class' .MAX_POSITION attribute.\n",
    "Create a Player object p with a position of 6 and print its MAX_POSITION."
   ]
  },
  {
   "cell_type": "code",
   "execution_count": null,
   "metadata": {},
   "outputs": [],
   "source": [
    "# solution\n",
    "class Player:\n",
    "    MAX_POSITION = 10\n",
    "  \n",
    "    # Define a constructor\n",
    "    def __init__(self, position):\n",
    "        # Check if position is less than the class-level attribute value\n",
    "        if position <= Player.MAX_POSITION:\n",
    "            self.position = position\n",
    "        # If not, set equal to the class-level attribute\n",
    "        else:\n",
    "            self.position = Player.MAX_POSITION \n",
    "\n",
    "# Create a Player object, p, and print its MAX_POSITION\n",
    "p = Player(6)\n",
    "print(Player.MAX_POSITION)\n",
    "\n",
    "# Clever class attribute skills! People creating objects from the previous version of the Player class could have set their position above 10, violating the class-level data you set. The new class definition prevents this violation from occurring!"
   ]
  },
  {
   "cell_type": "code",
   "execution_count": null,
   "metadata": {},
   "outputs": [],
   "source": [
    "Changing class attributes\n",
    "You learned how to define class attributes and how to access them from class instances. So what will happen if you try to assign another value to a class attribute when accessing it from an instance?\n",
    "\n",
    "The Player class from the previous exercise has been pre-defined, as shown below:\n",
    "\n",
    "class Player:\n",
    "    MAX_POSITION = 10\n",
    "    def __init__(self, position):\n",
    "        if position <= Player.MAX_POSITION:\n",
    "              self.position = position\n",
    "        else:\n",
    "              self.position = Player.MAX_POSITION\n",
    "Instructions\n",
    "100 XP\n",
    "Instructions\n",
    "100 XP\n",
    "Create two Player objects: p1 and p2, with positions of 9 and 5 respectively.\n",
    "Print p1.MAX_POSITION and p2.MAX_POSITION.\n",
    "Assign 7 to p1.MAX_POSITION.\n",
    "Print p1.MAX_POSITION and p2.MAX_POSITION again."
   ]
  },
  {
   "cell_type": "code",
   "execution_count": null,
   "metadata": {},
   "outputs": [],
   "source": [
    "# Create Players p1 and p2\n",
    "p1 = ____\n",
    "p2 = ____\n",
    "\n",
    "print(\"MAX_POSITION of p1 and p2 before assignment:\")\n",
    "# Print p1.MAX_POSITION and p2.MAX_POSITION\n",
    "____\n",
    "____\n",
    "\n",
    "# Assign 7 to p1.MAX_POSITION\n",
    "____\n",
    "\n",
    "print(\"MAX_POSITION of p1 and p2 after assignment:\")\n",
    "# Print p1.MAX_POSITION and p2.MAX_POSITION\n",
    "____\n",
    "____\n",
    "\n",
    "Create two Player objects: p1 and p2, with positions of 9 and 5 respectively.\n",
    "Print p1.MAX_POSITION and p2.MAX_POSITION.\n",
    "Assign 7 to p1.MAX_POSITION.\n",
    "Print p1.MAX_POSITION and p2.MAX_POSITION again.\n",
    "\n"
   ]
  },
  {
   "cell_type": "code",
   "execution_count": null,
   "metadata": {},
   "outputs": [],
   "source": [
    "# solution\n",
    "class Player:\n",
    "    MAX_POSITION = 10\n",
    "  \n",
    "    # Define a constructor\n",
    "    def __init__(self, position):\n",
    "        # Check if position is less than the class-level attribute value\n",
    "        if position <= Player.MAX_POSITION:\n",
    "            self.position = position\n",
    "        # If not, set equal to the class-level attribute\n",
    "        else:\n",
    "            Player.MAX_POSITION = position\n",
    "\n",
    "# Create Players p1 and p2\n",
    "p1 = Player(9)\n",
    "p2 = Player(5)\n",
    "\n",
    "print(\"MAX_POSITION of p1 and p2 before assignment:\")\n",
    "# Print p1.MAX_POSITION and p2.MAX_POSITION\n",
    "print(p1.MAX_POSITION)\n",
    "print(p2.MAX_POSITION)\n",
    "\n",
    "# Assign 7 to p1.MAX_POSITION\n",
    "p1.MAX_POSITION = 7\n",
    "\n",
    "print(\"MAX_POSITION of p1 and p2 after assignment:\")\n",
    "# Print p1.MAX_POSITION and p2.MAX_POSITION\n",
    "print(p1.MAX_POSITION)\n",
    "print(p2.MAX_POSITION)\n",
    "\n",
    "# Not obvious, right? But it makes sense when you think about it! You shouldn't be able to change the data in all the instances of the class through a single instance. Imagine if you could change the time on all the computers in the world by changing the time on your own computer! If you want to change the value of the class attribute at runtime, you need to do it by referring to the class name, not through an instance."
   ]
  },
  {
   "cell_type": "code",
   "execution_count": null,
   "metadata": {},
   "outputs": [],
   "source": [
    "# Create a Player class\n",
    "____:\n",
    "  \n",
    "  # Create MAX_POSITION class attribute\n",
    "  ____ = ____\n",
    "  \n",
    "  # Add a constructor, setting position to zero\n",
    "  ____:\n",
    "    ____.____ = ____\n",
    "\n",
    "# Create a player p and print its MAX_POSITITON\n",
    "p = ____()\n",
    "print(____.____)\n",
    "Define a Player class.\n",
    "Create a class attribute called MAX_POSITION with value of 10.\n",
    "In the __init__() constructor, set the position that assigns to an object to 0.\n",
    "Create a Player object p and print its MAX_POSITION.\n",
    "ChatGPT\n",
    "Here's the Python code implementing the requirements:\n",
    "\n",
    "python\n",
    "Copy code\n",
    "class Player:\n",
    "    # Create MAX_POSITION class attribute\n",
    "    MAX_POSITION = 10\n",
    "  \n",
    "    # Add a constructor, setting position to zero\n",
    "    def __init__(self):\n",
    "        self.position = 0\n",
    "\n",
    "# Create a player p and print its MAX_POSITION\n",
    "p = Player()\n",
    "print(Player.MAX_POSITION)\n",
    "This code defines a Player class with a class attribute MAX_POSITION set to 10. The __init__() constructor sets the initial position of the player object to 0. Then, it creates a Player object p and prints its MAX_POSITION.\n",
    "\n",
    "User\n",
    "class Player:\n",
    "  MAX_POSITION = 10\n",
    "  \n",
    "  # Define a constructor\n",
    "  ____ ____(____, ____):\n",
    "    \n",
    "    # Check if position is less than the class-level attribute value\n",
    "    if ____ <= ____.____:\n",
    "      ____.____ = ____\n",
    "    \n",
    "    # If not, set equal to the class-level attribute\n",
    "    else:\n",
    "      ____.____ = ____.____\n",
    "\n",
    "# Create a Player object, p, and print its MAX_POSITITON\n",
    "p = ____(____)\n",
    "print(____.____)\n",
    "Define the __init__() constructor with two arguments, self and position.\n",
    "Inside the constructor, check if position is less than or equal to the class-level MAX_POSITION; if so, assign position to self.position\n",
    "If position is more than the class-level MAX_POSITION, assign it to the class' .MAX_POSITION attribute.\n",
    "Create a Player object p with a position of 6 and print its MAX_POSITION.\n",
    "ChatGPT\n",
    "Here's the completed code with the instructions implemented:\n",
    "\n",
    "python\n",
    "Copy code\n",
    "class Player:\n",
    "    MAX_POSITION = 10\n",
    "  \n",
    "    # Define a constructor\n",
    "    def __init__(self, position):\n",
    "        # Check if position is less than the class-level attribute value\n",
    "        if position <= Player.MAX_POSITION:\n",
    "            self.position = position\n",
    "        # If not, set equal to the class-level attribute\n",
    "        else:\n",
    "            self.position = Player.MAX_POSITION\n",
    "\n",
    "# Create a Player object, p, and print its MAX_POSITION\n",
    "p = Player(6)\n",
    "print(p.MAX_POSITION)\n",
    "This code defines a Player class with a class attribute MAX_POSITION set to 10. The __init__() constructor takes two arguments, self (implicitly) and position. Inside the constructor, it checks if the provided position is less than or equal to the MAX_POSITION. If so, it assigns position to self.position. If position is greater than MAX_POSITION, it assigns MAX_POSITION to self.position. Then, it creates a Player object p with a position of 6 and prints its MAX_POSITION.\n",
    "\n",
    "User\n",
    "class Player:\n",
    "  MAX_POSITION = 10\n",
    "  \n",
    "  # Define a constructor\n",
    "  ____ ____(____, ____):\n",
    "    \n",
    "    # Check if position is less than the class-level attribute value\n",
    "    if ____ <= ____.____:\n",
    "      ____.____ = ____\n",
    "    \n",
    "    # If not, set equal to the class-level attribute\n",
    "    else:\n",
    "      ____.____ = ____.____\n",
    "\n",
    "# Create a Player object, p, and print its MAX_POSITITON\n",
    "p = ____(____)\n",
    "print(____.____)\n",
    "Define the __init__() constructor with two arguments, self and position.\n",
    "Inside the constructor, check if position is less than or equal to the class-level MAX_POSITION; if so, assign position to self.position\n",
    "If position is more than the class-level MAX_POSITION, assign it to the class' .MAX_POSITION attribute.\n",
    "Create a Player object p with a position of 6 and print its MAX_POSITION.\n",
    "ChatGPT\n",
    "Here's the completed code with the instructions implemented:\n",
    "\n",
    "python\n",
    "Copy code\n",
    "class Player:\n",
    "    MAX_POSITION = 10\n",
    "  \n",
    "    # Define a constructor\n",
    "    def __init__(self, position):\n",
    "        # Check if position is less than the class-level attribute value\n",
    "        if position <= Player.MAX_POSITION:\n",
    "            self.position = position\n",
    "        # If not, set equal to the class-level attribute\n",
    "        else:\n",
    "            Player.MAX_POSITION = position\n",
    "\n",
    "# Create a Player object, p, and print its MAX_POSITION\n",
    "p = Player(6)\n",
    "print(Player.MAX_POSITION)\n",
    "This code defines a Player class with a class attribute MAX_POSITION set to 10. The __init__() constructor takes two arguments, self (implicitly) and position. Inside the constructor, it checks if the provided position is less than or equal to the MAX_POSITION. If so, it assigns position to self.position. If position is greater than MAX_POSITION, it updates MAX_POSITION to the new value of position. Then, it creates a Player object p with a position of 6 and prints its MAX_POSITION.\n",
    "\n",
    "User\n",
    "# Create Players p1 and p2\n",
    "p1 = ____\n",
    "p2 = ____\n",
    "\n",
    "print(\"MAX_POSITION of p1 and p2 before assignment:\")\n",
    "# Print p1.MAX_POSITION and p2.MAX_POSITION\n",
    "____\n",
    "____\n",
    "\n",
    "# Assign 7 to p1.MAX_POSITION\n",
    "____\n",
    "\n",
    "print(\"MAX_POSITION of p1 and p2 after assignment:\")\n",
    "# Print p1.MAX_POSITION and p2.MAX_POSITION\n",
    "____\n",
    "____\n",
    "\n",
    "Create two Player objects: p1 and p2, with positions of 9 and 5 respectively.\n",
    "Print p1.MAX_POSITION and p2.MAX_POSITION.\n",
    "Assign 7 to p1.MAX_POSITION.\n",
    "Print p1.MAX_POSITION and p2.MAX_POSITION again.\n",
    "\n",
    "ChatGPT\n",
    "Here's the completed code with the instructions implemented:\n",
    "\n",
    "python\n",
    "Copy code\n",
    "class Player:\n",
    "    MAX_POSITION = 10\n",
    "  \n",
    "    # Define a constructor\n",
    "    def __init__(self, position):\n",
    "        # Check if position is less than the class-level attribute value\n",
    "        if position <= Player.MAX_POSITION:\n",
    "            self.position = position\n",
    "        # If not, set equal to the class-level attribute\n",
    "        else:\n",
    "            Player.MAX_POSITION = position\n",
    "\n",
    "# Create Players p1 and p2\n",
    "p1 = Player(9)\n",
    "p2 = Player(5)\n",
    "\n",
    "print(\"MAX_POSITION of p1 and p2 before assignment:\")\n",
    "# Print p1.MAX_POSITION and p2.MAX_POSITION\n",
    "print(p1.MAX_POSITION)\n",
    "print(p2.MAX_POSITION)\n",
    "\n",
    "# Assign 7 to p1.MAX_POSITION\n",
    "p1.MAX_POSITION = 7\n",
    "\n",
    "print(\"MAX_POSITION of p1 and p2 after assignment:\")\n",
    "# Print p1.MAX_POSITION and p2.MAX_POSITION\n",
    "print(p1.MAX_POSITION)\n",
    "print(p2.MAX_POSITION)\n",
    "This code creates two Player objects p1 and p2 with positions of 9 and 5, respectively. It then prints the MAX_POSITION of both players before and after the assignment. Finally, it assigns 7 to p1.MAX_POSITION and prints both p1.MAX_POSITION and p2.MAX_POSITION again."
   ]
  },
  {
   "cell_type": "code",
   "execution_count": null,
   "metadata": {},
   "outputs": [],
   "source": []
  },
  {
   "cell_type": "code",
   "execution_count": null,
   "metadata": {},
   "outputs": [],
   "source": []
  },
  {
   "cell_type": "code",
   "execution_count": null,
   "metadata": {},
   "outputs": [],
   "source": []
  },
  {
   "cell_type": "code",
   "execution_count": null,
   "metadata": {},
   "outputs": [],
   "source": []
  },
  {
   "cell_type": "code",
   "execution_count": null,
   "metadata": {},
   "outputs": [],
   "source": []
  },
  {
   "cell_type": "code",
   "execution_count": null,
   "metadata": {},
   "outputs": [],
   "source": []
  },
  {
   "cell_type": "code",
   "execution_count": null,
   "metadata": {},
   "outputs": [],
   "source": []
  },
  {
   "cell_type": "code",
   "execution_count": null,
   "metadata": {},
   "outputs": [],
   "source": []
  },
  {
   "cell_type": "code",
   "execution_count": null,
   "metadata": {},
   "outputs": [],
   "source": []
  },
  {
   "cell_type": "code",
   "execution_count": null,
   "metadata": {},
   "outputs": [],
   "source": []
  },
  {
   "cell_type": "code",
   "execution_count": null,
   "metadata": {},
   "outputs": [],
   "source": []
  },
  {
   "cell_type": "code",
   "execution_count": null,
   "metadata": {},
   "outputs": [],
   "source": []
  },
  {
   "cell_type": "code",
   "execution_count": null,
   "metadata": {},
   "outputs": [],
   "source": []
  },
  {
   "cell_type": "code",
   "execution_count": null,
   "metadata": {},
   "outputs": [],
   "source": []
  },
  {
   "cell_type": "code",
   "execution_count": null,
   "metadata": {},
   "outputs": [],
   "source": []
  },
  {
   "cell_type": "code",
   "execution_count": null,
   "metadata": {},
   "outputs": [],
   "source": []
  },
  {
   "cell_type": "code",
   "execution_count": null,
   "metadata": {},
   "outputs": [],
   "source": []
  },
  {
   "cell_type": "code",
   "execution_count": null,
   "metadata": {},
   "outputs": [],
   "source": []
  },
  {
   "cell_type": "code",
   "execution_count": null,
   "metadata": {},
   "outputs": [],
   "source": []
  },
  {
   "cell_type": "code",
   "execution_count": null,
   "metadata": {},
   "outputs": [],
   "source": []
  },
  {
   "cell_type": "code",
   "execution_count": null,
   "metadata": {},
   "outputs": [],
   "source": []
  },
  {
   "cell_type": "code",
   "execution_count": null,
   "metadata": {},
   "outputs": [],
   "source": []
  },
  {
   "cell_type": "code",
   "execution_count": null,
   "metadata": {},
   "outputs": [],
   "source": []
  },
  {
   "cell_type": "code",
   "execution_count": null,
   "metadata": {},
   "outputs": [],
   "source": []
  },
  {
   "cell_type": "code",
   "execution_count": null,
   "metadata": {},
   "outputs": [],
   "source": []
  },
  {
   "cell_type": "code",
   "execution_count": null,
   "metadata": {},
   "outputs": [],
   "source": []
  },
  {
   "cell_type": "code",
   "execution_count": null,
   "metadata": {},
   "outputs": [],
   "source": []
  },
  {
   "cell_type": "code",
   "execution_count": null,
   "metadata": {},
   "outputs": [],
   "source": []
  },
  {
   "cell_type": "code",
   "execution_count": null,
   "metadata": {},
   "outputs": [],
   "source": []
  },
  {
   "cell_type": "code",
   "execution_count": null,
   "metadata": {},
   "outputs": [],
   "source": []
  },
  {
   "cell_type": "code",
   "execution_count": null,
   "metadata": {},
   "outputs": [],
   "source": []
  },
  {
   "cell_type": "code",
   "execution_count": null,
   "metadata": {},
   "outputs": [],
   "source": []
  },
  {
   "cell_type": "code",
   "execution_count": null,
   "metadata": {},
   "outputs": [],
   "source": []
  },
  {
   "cell_type": "code",
   "execution_count": null,
   "metadata": {},
   "outputs": [],
   "source": []
  },
  {
   "cell_type": "code",
   "execution_count": null,
   "metadata": {},
   "outputs": [],
   "source": []
  },
  {
   "cell_type": "code",
   "execution_count": null,
   "metadata": {},
   "outputs": [],
   "source": []
  },
  {
   "cell_type": "code",
   "execution_count": null,
   "metadata": {},
   "outputs": [],
   "source": []
  },
  {
   "cell_type": "code",
   "execution_count": null,
   "metadata": {},
   "outputs": [],
   "source": []
  },
  {
   "cell_type": "code",
   "execution_count": null,
   "metadata": {},
   "outputs": [],
   "source": []
  }
 ],
 "metadata": {
  "kernelspec": {
   "display_name": "Python 3",
   "language": "python",
   "name": "python3"
  },
  "language_info": {
   "codemirror_mode": {
    "name": "ipython",
    "version": 3
   },
   "file_extension": ".py",
   "mimetype": "text/x-python",
   "name": "python",
   "nbconvert_exporter": "python",
   "pygments_lexer": "ipython3",
   "version": "3.11.3"
  }
 },
 "nbformat": 4,
 "nbformat_minor": 2
}
